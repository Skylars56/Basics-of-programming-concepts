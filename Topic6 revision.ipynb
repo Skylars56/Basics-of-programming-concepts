{
 "cells": [
  {
   "cell_type": "markdown",
   "id": "568b9848",
   "metadata": {},
   "source": [
    "Topic 1 Data types"
   ]
  },
  {
   "cell_type": "code",
   "execution_count": 1,
   "id": "d8e5a9d0",
   "metadata": {},
   "outputs": [],
   "source": [
    "x = 10\n",
    "y = 20.5\n",
    "n = \"skylar\"\n",
    "w = True"
   ]
  },
  {
   "cell_type": "markdown",
   "id": "9e3d0e0c",
   "metadata": {},
   "source": [
    "# Topic 2 Data structure ( where you store the data types in special format)"
   ]
  },
  {
   "cell_type": "code",
   "execution_count": null,
   "id": "c3f31fb7",
   "metadata": {},
   "outputs": [],
   "source": [
    "fruits = ['apple','orange','mango','grapes']\n",
    "fruits2 = ( 'apple','orange','mango','grapes' )\n",
    "fruits3 =  {'apple','orange','mango','grapes'}\n",
    "fruits4 = {0:'apple',1:'orange',2:\"mango\",3:'grapes'}"
   ]
  },
  {
   "cell_type": "markdown",
   "id": "7996a688",
   "metadata": {},
   "source": [
    "# Topic 3 Conditions"
   ]
  },
  {
   "cell_type": "code",
   "execution_count": 5,
   "id": "532683a1",
   "metadata": {},
   "outputs": [
    {
     "name": "stdout",
     "output_type": "stream",
     "text": [
      "else code is working\n"
     ]
    }
   ],
   "source": [
    "if False:\n",
    "    print(\"if code is working\")\n",
    "else:\n",
    "    print(\"else code is working\")"
   ]
  },
  {
   "cell_type": "code",
   "execution_count": 6,
   "id": "3a1ae050",
   "metadata": {},
   "outputs": [
    {
     "name": "stdout",
     "output_type": "stream",
     "text": [
      "Turn off AC\n"
     ]
    }
   ],
   "source": [
    "temp = 29\n",
    "if temp >30:\n",
    "    print('turn AC on')\n",
    "else:\n",
    "    print(\"Turn off AC\")"
   ]
  },
  {
   "cell_type": "markdown",
   "id": "6bf8b518",
   "metadata": {},
   "source": [
    "# topic 4 loops"
   ]
  },
  {
   "cell_type": "code",
   "execution_count": 7,
   "id": "d914ae71",
   "metadata": {},
   "outputs": [
    {
     "name": "stdout",
     "output_type": "stream",
     "text": [
      "0\n",
      "1\n",
      "2\n",
      "3\n",
      "4\n",
      "5\n",
      "6\n",
      "7\n",
      "8\n",
      "9\n"
     ]
    }
   ],
   "source": [
    "for i in range(0,10):\n",
    "    print(i)"
   ]
  },
  {
   "cell_type": "code",
   "execution_count": 9,
   "id": "18c0e070",
   "metadata": {},
   "outputs": [
    {
     "name": "stdout",
     "output_type": "stream",
     "text": [
      "skylar\n"
     ]
    }
   ],
   "source": [
    "running = True\n",
    "while running:\n",
    "    print('skylar')\n",
    "    running = False"
   ]
  },
  {
   "cell_type": "markdown",
   "id": "afddc80d",
   "metadata": {},
   "source": [
    "### topic 5 function"
   ]
  },
  {
   "cell_type": "code",
   "execution_count": 1,
   "id": "7770e45a",
   "metadata": {},
   "outputs": [],
   "source": [
    "def add (a,b):\n",
    "    return a + b"
   ]
  },
  {
   "cell_type": "code",
   "execution_count": 2,
   "id": "13417245",
   "metadata": {},
   "outputs": [
    {
     "data": {
      "text/plain": [
       "30"
      ]
     },
     "execution_count": 2,
     "metadata": {},
     "output_type": "execute_result"
    }
   ],
   "source": [
    "add(10,20)"
   ]
  },
  {
   "cell_type": "code",
   "execution_count": null,
   "id": "85986819",
   "metadata": {},
   "outputs": [],
   "source": []
  }
 ],
 "metadata": {
  "kernelspec": {
   "display_name": "Python 3",
   "language": "python",
   "name": "python3"
  },
  "language_info": {
   "codemirror_mode": {
    "name": "ipython",
    "version": 3
   },
   "file_extension": ".py",
   "mimetype": "text/x-python",
   "name": "python",
   "nbconvert_exporter": "python",
   "pygments_lexer": "ipython3",
   "version": "3.11.9"
  }
 },
 "nbformat": 4,
 "nbformat_minor": 5
}
