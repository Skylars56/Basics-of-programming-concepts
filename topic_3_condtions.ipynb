{
 "cells": [
  {
   "cell_type": "code",
   "execution_count": 1,
   "id": "95989583",
   "metadata": {},
   "outputs": [
    {
     "name": "stdout",
     "output_type": "stream",
     "text": [
      "all good\n"
     ]
    }
   ],
   "source": [
    "temperature = 29\n",
    "if temperature>30:\n",
    "    print(\"turn on AC\")\n",
    "else:\n",
    "    print(\"all good\")"
   ]
  },
  {
   "cell_type": "code",
   "execution_count": 2,
   "id": "69299008",
   "metadata": {},
   "outputs": [],
   "source": [
    "# if marks are more than 50 print pass else print fail"
   ]
  },
  {
   "cell_type": "code",
   "execution_count": 3,
   "id": "3218ac67",
   "metadata": {},
   "outputs": [
    {
     "name": "stdout",
     "output_type": "stream",
     "text": [
      "fail\n"
     ]
    }
   ],
   "source": [
    "marks = 49\n",
    "if marks>50:\n",
    "    print(\"pass\")\n",
    "else:\n",
    "    print(\"fail\")\n"
   ]
  },
  {
   "cell_type": "code",
   "execution_count": 6,
   "id": "a179a251",
   "metadata": {},
   "outputs": [
    {
     "name": "stdout",
     "output_type": "stream",
     "text": [
      "yes present\n"
     ]
    }
   ],
   "source": [
    "usernames = ['john','Smith','Ronald']\n",
    "# if username is present in list print user is present else print sorry this user is not in list\n",
    "user = input(\"please write your username:\")\n",
    "if user in usernames:\n",
    "    print(\"yes present\")\n",
    "else:\n",
    "    print(\"sorry not there in list\")"
   ]
  },
  {
   "cell_type": "code",
   "execution_count": 7,
   "id": "2394f928",
   "metadata": {},
   "outputs": [],
   "source": [
    " # 1. write a for loop and run it 5 times\n",
    "# "
   ]
  },
  {
   "cell_type": "code",
   "execution_count": 8,
   "id": "2e6ceb54",
   "metadata": {},
   "outputs": [],
   "source": [
    "# compartive operators"
   ]
  },
  {
   "cell_type": "code",
   "execution_count": 9,
   "id": "5f2c49d5",
   "metadata": {},
   "outputs": [],
   "source": [
    "x = 10\n",
    "y = 11"
   ]
  },
  {
   "cell_type": "code",
   "execution_count": 10,
   "id": "0b6b2388",
   "metadata": {},
   "outputs": [
    {
     "data": {
      "text/plain": [
       "False"
      ]
     },
     "execution_count": 10,
     "metadata": {},
     "output_type": "execute_result"
    }
   ],
   "source": [
    "x == y"
   ]
  },
  {
   "cell_type": "code",
   "execution_count": 11,
   "id": "f2667f37",
   "metadata": {},
   "outputs": [
    {
     "data": {
      "text/plain": [
       "True"
      ]
     },
     "execution_count": 11,
     "metadata": {},
     "output_type": "execute_result"
    }
   ],
   "source": [
    "x != y"
   ]
  },
  {
   "cell_type": "code",
   "execution_count": 12,
   "id": "1b572697",
   "metadata": {},
   "outputs": [
    {
     "data": {
      "text/plain": [
       "False"
      ]
     },
     "execution_count": 12,
     "metadata": {},
     "output_type": "execute_result"
    }
   ],
   "source": [
    "x > y"
   ]
  },
  {
   "cell_type": "code",
   "execution_count": 13,
   "id": "c1554bbf",
   "metadata": {},
   "outputs": [
    {
     "data": {
      "text/plain": [
       "True"
      ]
     },
     "execution_count": 13,
     "metadata": {},
     "output_type": "execute_result"
    }
   ],
   "source": [
    "x < y"
   ]
  },
  {
   "cell_type": "code",
   "execution_count": 14,
   "id": "651c189d",
   "metadata": {},
   "outputs": [
    {
     "data": {
      "text/plain": [
       "True"
      ]
     },
     "execution_count": 14,
     "metadata": {},
     "output_type": "execute_result"
    }
   ],
   "source": [
    "x != y"
   ]
  },
  {
   "cell_type": "code",
   "execution_count": 18,
   "id": "65042735",
   "metadata": {},
   "outputs": [
    {
     "name": "stdout",
     "output_type": "stream",
     "text": [
      "you are under weight\n",
      "16.661586184356782\n"
     ]
    }
   ],
   "source": [
    "# write your weight\n",
    "w = 137\n",
    "w = w/2.20652 # conver to kg\n",
    "# write you height\n",
    "h = 76\n",
    "h = h/39.37\n",
    "\n",
    "bmi = w/(h**2)\n",
    "\n",
    "if bmi <18.5:\n",
    "    print(\"you are under weight\")\n",
    "elif bmi >18.5 and bmi < 24.9:\n",
    "    print(\"healthy weight\")\n",
    "elif bmi >24.9:\n",
    "    print(\"overweight\")\n",
    "print(bmi)"
   ]
  },
  {
   "cell_type": "code",
   "execution_count": null,
   "id": "54739b0b",
   "metadata": {},
   "outputs": [],
   "source": []
  }
 ],
 "metadata": {
  "kernelspec": {
   "display_name": "Python 3",
   "language": "python",
   "name": "python3"
  },
  "language_info": {
   "codemirror_mode": {
    "name": "ipython",
    "version": 3
   },
   "file_extension": ".py",
   "mimetype": "text/x-python",
   "name": "python",
   "nbconvert_exporter": "python",
   "pygments_lexer": "ipython3",
   "version": "3.11.9"
  }
 },
 "nbformat": 4,
 "nbformat_minor": 5
}
