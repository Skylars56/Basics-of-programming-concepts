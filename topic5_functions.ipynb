{
 "cells": [
  {
   "cell_type": "code",
   "execution_count": 2,
   "id": "479f89e4",
   "metadata": {},
   "outputs": [
    {
     "name": "stdout",
     "output_type": "stream",
     "text": [
      "30 -10\n"
     ]
    }
   ],
   "source": [
    "x = 10\n",
    "y = 20\n",
    "s = x+y\n",
    "d = x-y\n",
    "print(s,d)"
   ]
  },
  {
   "cell_type": "code",
   "execution_count": 3,
   "id": "c5637ae9",
   "metadata": {},
   "outputs": [
    {
     "name": "stdout",
     "output_type": "stream",
     "text": [
      "73 27\n"
     ]
    }
   ],
   "source": [
    "x = 50\n",
    "y = 23\n",
    "s = x+y\n",
    "d = x-y\n",
    "print(s,d)"
   ]
  },
  {
   "cell_type": "code",
   "execution_count": 4,
   "id": "7ce79bfb",
   "metadata": {},
   "outputs": [],
   "source": [
    "# instead of writing code again and again we can make a function that take input and return us suma and diff"
   ]
  },
  {
   "cell_type": "code",
   "execution_count": 5,
   "id": "9cf59b13",
   "metadata": {},
   "outputs": [],
   "source": [
    "def calculator(x,y):\n",
    "    s = x+y\n",
    "    d = x-y\n",
    "    return s,d"
   ]
  },
  {
   "cell_type": "code",
   "execution_count": 6,
   "id": "47683bde",
   "metadata": {},
   "outputs": [
    {
     "data": {
      "text/plain": [
       "(30, -10)"
      ]
     },
     "execution_count": 6,
     "metadata": {},
     "output_type": "execute_result"
    }
   ],
   "source": [
    "calculator(10,20)"
   ]
  },
  {
   "cell_type": "code",
   "execution_count": 7,
   "id": "2f346040",
   "metadata": {},
   "outputs": [
    {
     "data": {
      "text/plain": [
       "(73, 27)"
      ]
     },
     "execution_count": 7,
     "metadata": {},
     "output_type": "execute_result"
    }
   ],
   "source": [
    "calculator(50,23)"
   ]
  },
  {
   "cell_type": "code",
   "execution_count": 8,
   "id": "e00ac05e",
   "metadata": {},
   "outputs": [],
   "source": [
    "#  please make a function that take mass and accelration and give you force\n",
    "# force = mass * accelration"
   ]
  },
  {
   "cell_type": "code",
   "execution_count": 9,
   "id": "1b989bd8",
   "metadata": {},
   "outputs": [],
   "source": [
    "def Force(m,a):\n",
    "    F = m*a\n",
    "    return F\n",
    "\n",
    "    "
   ]
  },
  {
   "cell_type": "code",
   "execution_count": 10,
   "id": "52b7882e",
   "metadata": {},
   "outputs": [
    {
     "data": {
      "text/plain": [
       "20"
      ]
     },
     "execution_count": 10,
     "metadata": {},
     "output_type": "execute_result"
    }
   ],
   "source": [
    "Force(10,2)"
   ]
  },
  {
   "cell_type": "code",
   "execution_count": 11,
   "id": "919696e0",
   "metadata": {},
   "outputs": [
    {
     "data": {
      "text/plain": [
       "6"
      ]
     },
     "execution_count": 11,
     "metadata": {},
     "output_type": "execute_result"
    }
   ],
   "source": [
    "Force(3,2)"
   ]
  },
  {
   "cell_type": "code",
   "execution_count": 12,
   "id": "cfff12f1",
   "metadata": {},
   "outputs": [],
   "source": [
    "# makea  function that take two number and return you their average (x+y)/2\n"
   ]
  },
  {
   "cell_type": "code",
   "execution_count": 13,
   "id": "e2357ae2",
   "metadata": {},
   "outputs": [],
   "source": [
    "def avg(x,y):\n",
    "    V = (x+y)/2\n",
    "    return V"
   ]
  },
  {
   "cell_type": "code",
   "execution_count": 14,
   "id": "4c2ca907",
   "metadata": {},
   "outputs": [
    {
     "data": {
      "text/plain": [
       "4.0"
      ]
     },
     "execution_count": 14,
     "metadata": {},
     "output_type": "execute_result"
    }
   ],
   "source": [
    "avg(3,5)"
   ]
  },
  {
   "cell_type": "code",
   "execution_count": 15,
   "id": "88a74bdf",
   "metadata": {},
   "outputs": [
    {
     "data": {
      "text/plain": [
       "15.0"
      ]
     },
     "execution_count": 15,
     "metadata": {},
     "output_type": "execute_result"
    }
   ],
   "source": [
    "avg(10,20)"
   ]
  },
  {
   "cell_type": "code",
   "execution_count": null,
   "id": "85d42148",
   "metadata": {},
   "outputs": [],
   "source": [
    "# write your weight\n",
    "w = 137\n",
    "h = 76\n",
    "\n",
    "\n",
    "\n",
    "w = w/2.20652 # conver to kg\n",
    "# write you height\n",
    "h = h/39.37\n",
    "\n",
    "bmi = w/(h**2)\n",
    "\n",
    "if bmi <18.5:\n",
    "    print(\"you are under weight\")\n",
    "elif bmi >18.5 and bmi < 24.9:\n",
    "    print(\"healthy weight\")\n",
    "elif bmi >24.9:\n",
    "    print(\"overweight\")\n",
    "print(bmi)"
   ]
  },
  {
   "cell_type": "code",
   "execution_count": 1,
   "id": "1b2b382c",
   "metadata": {},
   "outputs": [],
   "source": [
    "import funs"
   ]
  },
  {
   "cell_type": "code",
   "execution_count": 2,
   "id": "eab02bf4",
   "metadata": {},
   "outputs": [
    {
     "name": "stdout",
     "output_type": "stream",
     "text": [
      "overweight\n",
      "29.879034673062353\n"
     ]
    }
   ],
   "source": [
    "funs.bmi(98,48)"
   ]
  },
  {
   "cell_type": "code",
   "execution_count": 3,
   "id": "e9fb3ee7",
   "metadata": {},
   "outputs": [
    {
     "data": {
      "text/plain": [
       "4.0"
      ]
     },
     "execution_count": 3,
     "metadata": {},
     "output_type": "execute_result"
    }
   ],
   "source": [
    "funs.avg(3,5)"
   ]
  },
  {
   "cell_type": "code",
   "execution_count": 4,
   "id": "2e58fb3a",
   "metadata": {},
   "outputs": [],
   "source": [
    "from funs import avg"
   ]
  },
  {
   "cell_type": "code",
   "execution_count": 5,
   "id": "5a5ab24a",
   "metadata": {},
   "outputs": [
    {
     "data": {
      "text/plain": [
       "4.0"
      ]
     },
     "execution_count": 5,
     "metadata": {},
     "output_type": "execute_result"
    }
   ],
   "source": [
    "avg(3,5)"
   ]
  },
  {
   "cell_type": "code",
   "execution_count": 6,
   "id": "79b32e66",
   "metadata": {},
   "outputs": [],
   "source": [
    "from funs import bmi as tell_helth"
   ]
  },
  {
   "cell_type": "code",
   "execution_count": 7,
   "id": "eae2a188",
   "metadata": {},
   "outputs": [
    {
     "name": "stdout",
     "output_type": "stream",
     "text": [
      "healthy weight\n",
      "22.757453185697745\n"
     ]
    }
   ],
   "source": [
    "tell_helth(98,55)"
   ]
  },
  {
   "cell_type": "code",
   "execution_count": 8,
   "id": "0f4d0882",
   "metadata": {},
   "outputs": [],
   "source": [
    "import funs as special"
   ]
  },
  {
   "cell_type": "code",
   "execution_count": 12,
   "id": "bbe63c8c",
   "metadata": {},
   "outputs": [
    {
     "name": "stdout",
     "output_type": "stream",
     "text": [
      "overweight\n",
      "108.07110814244217\n"
     ]
    }
   ],
   "source": [
    "special.bmi(26,13)"
   ]
  },
  {
   "cell_type": "code",
   "execution_count": null,
   "id": "f15ae9a5",
   "metadata": {},
   "outputs": [],
   "source": []
  }
 ],
 "metadata": {
  "kernelspec": {
   "display_name": "Python 3",
   "language": "python",
   "name": "python3"
  },
  "language_info": {
   "codemirror_mode": {
    "name": "ipython",
    "version": 3
   },
   "file_extension": ".py",
   "mimetype": "text/x-python",
   "name": "python",
   "nbconvert_exporter": "python",
   "pygments_lexer": "ipython3",
   "version": "3.11.9"
  }
 },
 "nbformat": 4,
 "nbformat_minor": 5
}
