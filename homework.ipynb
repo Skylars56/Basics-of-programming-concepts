{
 "cells": [
  {
   "cell_type": "code",
   "execution_count": 31,
   "id": "76fa1d9a",
   "metadata": {},
   "outputs": [
    {
     "name": "stdout",
     "output_type": "stream",
     "text": [
      "73.05\n",
      "C\n"
     ]
    }
   ],
   "source": [
    "\n",
    "T = 65\n",
    "T = (T*1/2)\n",
    "H = 72\n",
    "H = (H*0.15)\n",
    "W = 85\n",
    "W = (W*0.35)\n",
    "\n",
    "Grade = T+H+W\n",
    "\n",
    "print(Grade)\n",
    "if Grade >=90:\n",
    "    print(\"A\")\n",
    "elif Grade >=80 and Grade <90:\n",
    "    print(\"B\")\n",
    "elif Grade >=70 and Grade <80:\n",
    "    print(\"C\")\n",
    "elif Grade <70:\n",
    "    print(\"fail\")\n",
    "    \n"
   ]
  },
  {
   "cell_type": "code",
   "execution_count": 33,
   "id": "807fef9f",
   "metadata": {},
   "outputs": [
    {
     "name": "stdout",
     "output_type": "stream",
     "text": [
      "21.666666666666668\n",
      "Moderate\n"
     ]
    }
   ],
   "source": [
    "F = 71\n",
    "\n",
    "C = (F-32)*5/9\n",
    "\n",
    "print(C)\n",
    "if C <10:\n",
    "    print(\"cold\")\n",
    "elif C >10 and C <25:\n",
    "    print(\"Moderate\") \n",
    "elif C >25:\n",
    "    print(\"Hot\")\n",
    "    \n"
   ]
  },
  {
   "cell_type": "code",
   "execution_count": null,
   "id": "1860120d",
   "metadata": {},
   "outputs": [],
   "source": []
  }
 ],
 "metadata": {
  "kernelspec": {
   "display_name": "Python 3",
   "language": "python",
   "name": "python3"
  },
  "language_info": {
   "codemirror_mode": {
    "name": "ipython",
    "version": 3
   },
   "file_extension": ".py",
   "mimetype": "text/x-python",
   "name": "python",
   "nbconvert_exporter": "python",
   "pygments_lexer": "ipython3",
   "version": "3.11.9"
  }
 },
 "nbformat": 4,
 "nbformat_minor": 5
}
