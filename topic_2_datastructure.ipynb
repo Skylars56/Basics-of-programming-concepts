{
 "cells": [
  {
   "cell_type": "markdown",
   "id": "7fd9baf8",
   "metadata": {},
   "source": [
    "## to store data types we need data structure"
   ]
  },
  {
   "cell_type": "code",
   "execution_count": 1,
   "id": "90c36c9e",
   "metadata": {},
   "outputs": [
    {
     "name": "stdout",
     "output_type": "stream",
     "text": [
      "100\n"
     ]
    }
   ],
   "source": [
    "x = 100\n",
    "print(x)"
   ]
  },
  {
   "cell_type": "markdown",
   "id": "b671a6fd",
   "metadata": {},
   "source": []
  },
  {
   "cell_type": "code",
   "execution_count": 6,
   "id": "b3518020",
   "metadata": {},
   "outputs": [],
   "source": [
    "colors = ['red','green','blue']\n",
    "shapes = ['square','circle','turtle']"
   ]
  },
  {
   "cell_type": "code",
   "execution_count": 8,
   "id": "9135e693",
   "metadata": {},
   "outputs": [
    {
     "name": "stdout",
     "output_type": "stream",
     "text": [
      "the turtle with color red is having shape square\n",
      "the turtle with color green is having shape circle\n",
      "the turtle with color blue is having shape turtle\n"
     ]
    }
   ],
   "source": [
    "for i in range(len(colors)):\n",
    "    print(f\"the turtle with color {colors[i]} is having shape {shapes[i]}\")"
   ]
  },
  {
   "cell_type": "code",
   "execution_count": 9,
   "id": "955e7475",
   "metadata": {},
   "outputs": [],
   "source": [
    "colors_fruits = {\n",
    "    'red':'apple',\n",
    "    'blue':'blueberry',\n",
    "    'green':'grapes',\n",
    "    'yellow':'mango'\n",
    "}"
   ]
  },
  {
   "cell_type": "code",
   "execution_count": 11,
   "id": "14da7b0e",
   "metadata": {},
   "outputs": [
    {
     "data": {
      "text/plain": [
       "dict_values(['apple', 'blueberry', 'grapes', 'mango'])"
      ]
     },
     "execution_count": 11,
     "metadata": {},
     "output_type": "execute_result"
    }
   ],
   "source": [
    "colors_fruits.values()"
   ]
  },
  {
   "cell_type": "code",
   "execution_count": 12,
   "id": "a7cdd2c4",
   "metadata": {},
   "outputs": [
    {
     "data": {
      "text/plain": [
       "dict_keys(['red', 'blue', 'green', 'yellow'])"
      ]
     },
     "execution_count": 12,
     "metadata": {},
     "output_type": "execute_result"
    }
   ],
   "source": [
    "colors_fruits.keys()"
   ]
  },
  {
   "cell_type": "code",
   "execution_count": 13,
   "id": "e3a90051",
   "metadata": {},
   "outputs": [
    {
     "data": {
      "text/plain": [
       "dict_items([('red', 'apple'), ('blue', 'blueberry'), ('green', 'grapes'), ('yellow', 'mango')])"
      ]
     },
     "execution_count": 13,
     "metadata": {},
     "output_type": "execute_result"
    }
   ],
   "source": [
    "colors_fruits.items()"
   ]
  },
  {
   "cell_type": "code",
   "execution_count": 14,
   "id": "500db594",
   "metadata": {},
   "outputs": [
    {
     "name": "stdout",
     "output_type": "stream",
     "text": [
      "fruit color red is apple\n",
      "fruit color blue is blueberry\n",
      "fruit color green is grapes\n",
      "fruit color yellow is mango\n"
     ]
    }
   ],
   "source": [
    "for c,f in colors_fruits.items():\n",
    "    print(f'fruit color {c} is {f}')"
   ]
  },
  {
   "cell_type": "code",
   "execution_count": 16,
   "id": "4f03fab4",
   "metadata": {},
   "outputs": [],
   "source": [
    "## we have to make a login code, when user give correct password print login \n",
    "database = {'skylar':'123','umair':'456','mrx':'789'}\n"
   ]
  },
  {
   "cell_type": "code",
   "execution_count": null,
   "id": "2528ce99",
   "metadata": {},
   "outputs": [
    {
     "ename": "KeyError",
     "evalue": "'skyalr 6343'",
     "output_type": "error",
     "traceback": [
      "\u001b[31m---------------------------------------------------------------------------\u001b[39m",
      "\u001b[31mKeyError\u001b[39m                                  Traceback (most recent call last)",
      "\u001b[36mCell\u001b[39m\u001b[36m \u001b[39m\u001b[32mIn[18]\u001b[39m\u001b[32m, line 4\u001b[39m\n\u001b[32m      1\u001b[39m z = \u001b[38;5;28minput\u001b[39m(\u001b[33m\"\u001b[39m\u001b[33mplease enter username\u001b[39m\u001b[33m\"\u001b[39m)\n\u001b[32m      2\u001b[39m y = \u001b[38;5;28minput\u001b[39m(\u001b[33m\"\u001b[39m\u001b[33mplease enter your passsowrd\u001b[39m\u001b[33m\"\u001b[39m)\n\u001b[32m----> \u001b[39m\u001b[32m4\u001b[39m \u001b[38;5;28;01mif\u001b[39;00m \u001b[43mdatabase\u001b[49m\u001b[43m[\u001b[49m\u001b[43mz\u001b[49m\u001b[43m]\u001b[49m ==y:\n\u001b[32m      5\u001b[39m     \u001b[38;5;28mprint\u001b[39m(\u001b[33m'\u001b[39m\u001b[33mlogin\u001b[39m\u001b[33m'\u001b[39m)\n\u001b[32m      6\u001b[39m \u001b[38;5;28;01melse\u001b[39;00m:\n",
      "\u001b[31mKeyError\u001b[39m: 'skyalr 6343'"
     ]
    },
    {
     "ename": "",
     "evalue": "",
     "output_type": "error",
     "traceback": [
      "\u001b[1;31mThe Kernel crashed while executing code in the current cell or a previous cell. \n",
      "\u001b[1;31mPlease review the code in the cell(s) to identify a possible cause of the failure. \n",
      "\u001b[1;31mClick <a href='https://aka.ms/vscodeJupyterKernelCrash'>here</a> for more info. \n",
      "\u001b[1;31mView Jupyter <a href='command:jupyter.viewOutput'>log</a> for further details."
     ]
    }
   ],
   "source": [
    "# z = input(\"please enter username\")\n",
    "# y = input(\"please enter your passsowrd\")\n",
    "\n",
    "# if database[z] ==y:\n",
    "#     print('login')\n",
    "# else:\n",
    "#     print('wrong username or password')"
   ]
  },
  {
   "cell_type": "code",
   "execution_count": null,
   "id": "24d333e1",
   "metadata": {},
   "outputs": [],
   "source": []
  }
 ],
 "metadata": {
  "kernelspec": {
   "display_name": "Python 3",
   "language": "python",
   "name": "python3"
  },
  "language_info": {
   "codemirror_mode": {
    "name": "ipython",
    "version": 3
   },
   "file_extension": ".py",
   "mimetype": "text/x-python",
   "name": "python",
   "nbconvert_exporter": "python",
   "pygments_lexer": "ipython3",
   "version": "3.11.9"
  }
 },
 "nbformat": 4,
 "nbformat_minor": 5
}
