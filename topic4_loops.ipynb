{
 "cells": [
  {
   "cell_type": "code",
   "execution_count": 2,
   "id": "c0b59674",
   "metadata": {},
   "outputs": [
    {
     "name": "stdout",
     "output_type": "stream",
     "text": [
      "Skylar\n"
     ]
    }
   ],
   "source": [
    "print(\"Skylar\")"
   ]
  },
  {
   "cell_type": "code",
   "execution_count": 3,
   "id": "833f97d1",
   "metadata": {},
   "outputs": [
    {
     "name": "stdout",
     "output_type": "stream",
     "text": [
      "Skylar 0\n",
      "Skylar 1\n",
      "Skylar 2\n",
      "Skylar 3\n",
      "Skylar 4\n",
      "Skylar 5\n",
      "Skylar 6\n",
      "Skylar 7\n",
      "Skylar 8\n",
      "Skylar 9\n"
     ]
    }
   ],
   "source": [
    "for i in range(10):\n",
    "    print(\"Skylar\",i)"
   ]
  },
  {
   "cell_type": "code",
   "execution_count": 4,
   "id": "e3044db4",
   "metadata": {},
   "outputs": [
    {
     "ename": "ValueError",
     "evalue": "invalid literal for int() with base 10: ''",
     "output_type": "error",
     "traceback": [
      "\u001b[31m---------------------------------------------------------------------------\u001b[39m",
      "\u001b[31mValueError\u001b[39m                                Traceback (most recent call last)",
      "\u001b[36mCell\u001b[39m\u001b[36m \u001b[39m\u001b[32mIn[4]\u001b[39m\u001b[32m, line 4\u001b[39m\n\u001b[32m      2\u001b[39m computer = random.randint(\u001b[32m1\u001b[39m,\u001b[32m100\u001b[39m) \u001b[38;5;66;03m# make a number between 1 to 100\u001b[39;00m\n\u001b[32m      3\u001b[39m \u001b[38;5;28;01mfor\u001b[39;00m chance \u001b[38;5;129;01min\u001b[39;00m \u001b[38;5;28mrange\u001b[39m(\u001b[32m10\u001b[39m):\n\u001b[32m----> \u001b[39m\u001b[32m4\u001b[39m     user = \u001b[38;5;28;43mint\u001b[39;49m\u001b[43m(\u001b[49m\u001b[38;5;28;43minput\u001b[39;49m\u001b[43m(\u001b[49m\u001b[33;43m\"\u001b[39;49m\u001b[33;43mplease enter your number: \u001b[39;49m\u001b[33;43m\"\u001b[39;49m\u001b[43m)\u001b[49m\u001b[43m)\u001b[49m\n\u001b[32m      5\u001b[39m     \u001b[38;5;28;01mif\u001b[39;00m user == computer:\n\u001b[32m      6\u001b[39m         \u001b[38;5;28mprint\u001b[39m(\u001b[33m\"\u001b[39m\u001b[33mheeey you number is matched congratulations!!!! yeye\u001b[39m\u001b[33m\"\u001b[39m)\n",
      "\u001b[31mValueError\u001b[39m: invalid literal for int() with base 10: ''"
     ]
    }
   ],
   "source": [
    "import random\n",
    "computer = random.randint(1,100) # make a number between 1 to 100\n",
    "for chance in range(10):\n",
    "    user = int(input(\"please enter your number: \"))\n",
    "    if user == computer:\n",
    "        print(\"heeey you number is matched congratulations!!!! yeye\")\n",
    "        break\n",
    "    else:\n",
    "        print(\"sorry the number did not match\",user)\n",
    "        if user>computer:\n",
    "            print(\"yoru number is actually greater make it lower\")\n",
    "        else:\n",
    "            print(\"your number is smaller increase it\")"
   ]
  },
  {
   "cell_type": "code",
   "execution_count": null,
   "id": "3a209512",
   "metadata": {},
   "outputs": [
    {
     "name": "stdout",
     "output_type": "stream",
     "text": [
      "square of 1 is 1\n",
      "square of 2 is 4\n",
      "square of 3 is 9\n",
      "square of 4 is 16\n",
      "square of 5 is 25\n",
      "square of 6 is 36\n",
      "square of 7 is 49\n",
      "square of 8 is 64\n",
      "square of 9 is 81\n",
      "square of 10 is 100\n"
     ]
    }
   ],
   "source": [
    "## make a program in which you have to write a loop\n",
    "## print number  from 1 to 10 and alsoprint their square ...\n",
    "\n",
    "\n",
    "for i in range(1,11):\n",
    "    print(\"square of\",i,\"is\",i**2)\n",
    "\n",
    "\n",
    "\n",
    "\n",
    "\n",
    "# it will print like\n",
    "# square of 5 is 25 (hint you can use i**2)\n",
    "\n",
    "\n",
    "\n"
   ]
  },
  {
   "cell_type": "code",
   "execution_count": null,
   "id": "4931d9db",
   "metadata": {},
   "outputs": [
    {
     "name": "stdout",
     "output_type": "stream",
     "text": [
      "100 10.0\n",
      "200 14.142135623730951\n",
      "10000 100.0\n",
      "4500 67.08203932499369\n",
      "7800 88.31760866327846\n"
     ]
    }
   ],
   "source": [
    "numbers = [100,200,10000,4500,7800]\n",
    "# please find the square root\n",
    "for i in numbers:\n",
    "    print(i,i**0.5)"
   ]
  },
  {
   "cell_type": "code",
   "execution_count": null,
   "id": "d74bf02d",
   "metadata": {},
   "outputs": [],
   "source": [
    "if i % 2 ==0 print even else it wil be add"
   ]
  },
  {
   "cell_type": "code",
   "execution_count": null,
   "id": "a69814d3",
   "metadata": {},
   "outputs": [
    {
     "name": "stdout",
     "output_type": "stream",
     "text": [
      "1 odd\n",
      "3 odd\n",
      "5534 even\n",
      "534 even\n",
      "5 odd\n",
      "6556 even\n",
      "3545 odd\n",
      "786 even\n",
      "435 odd\n",
      "54 even\n",
      "435 odd\n",
      "55647 odd\n",
      "34 even\n",
      "6 even\n",
      "47 odd\n",
      "56 even\n",
      "435 odd\n",
      "785 odd\n",
      "23 odd\n",
      "67675645 odd\n",
      "465667 odd\n",
      "435 odd\n",
      "774646 even\n",
      "476643 odd\n",
      "64375657 odd\n",
      "5655 odd\n"
     ]
    }
   ],
   "source": [
    "numbers = [1,3,5534,534,5,6556,3545,786,435,54,435,55647,34,6,47,56,435,785,23,67675645,465667,435,774646,476643,64375657,5655]\n",
    "for number in numbers:\n",
    "    if number%2==0:\n",
    "        print(number,\"even\")\n",
    "    else:\n",
    "        print(number,\"odd\")\n"
   ]
  },
  {
   "cell_type": "code",
   "execution_count": null,
   "id": "3c54c908",
   "metadata": {},
   "outputs": [
    {
     "name": "stdout",
     "output_type": "stream",
     "text": [
      "['Apple', 'Banana', 'Orange', 'Mango', 'Pineapple', 'Strawberry', 'Blueberry', 'Watermelon', 'Papaya', 'Kiwi', 'Grapes', 'Peach', 'Cherry', 'Pomegranate', 'Guava', 'Lychee', 'Plum', 'Apricot', 'Pear', 'Coconut']\n"
     ]
    }
   ],
   "source": [
    "fruits = [\n",
    "    \"Apple\", \"Banana\", \"Orange\", \"Mango\", \"Pineapple\",\n",
    "    \"Strawberry\", \"Blueberry\", \"Watermelon\", \"Papaya\", \"Kiwi\",\n",
    "    \"Grapes\", \"Peach\", \"Cherry\", \"Pomegranate\", \"Guava\",\n",
    "    \"Lychee\", \"Plum\", \"Apricot\", \"Pear\", \"Coconut\"\n",
    "]\n",
    "print(fruits)"
   ]
  },
  {
   "cell_type": "code",
   "execution_count": null,
   "id": "0d29a562",
   "metadata": {},
   "outputs": [
    {
     "ename": "NameError",
     "evalue": "name 'fruits' is not defined",
     "output_type": "error",
     "traceback": [
      "\u001b[31m---------------------------------------------------------------------------\u001b[39m",
      "\u001b[31mNameError\u001b[39m                                 Traceback (most recent call last)",
      "\u001b[36mCell\u001b[39m\u001b[36m \u001b[39m\u001b[32mIn[1]\u001b[39m\u001b[32m, line 2\u001b[39m\n\u001b[32m      1\u001b[39m \u001b[38;5;66;03m# make a for loop if length of the word is more than 5 print it\u001b[39;00m\n\u001b[32m----> \u001b[39m\u001b[32m2\u001b[39m \u001b[38;5;28;01mfor\u001b[39;00m fruit \u001b[38;5;129;01min\u001b[39;00m \u001b[43mfruits\u001b[49m:\n\u001b[32m      3\u001b[39m     \u001b[38;5;28;01mif\u001b[39;00m \u001b[38;5;28mlen\u001b[39m(fruit)>\u001b[32m6\u001b[39m:\n\u001b[32m      4\u001b[39m         \u001b[38;5;28mprint\u001b[39m(fruit,\u001b[33m\"\u001b[39m\u001b[33m****\u001b[39m\u001b[33m\"\u001b[39m)\n",
      "\u001b[31mNameError\u001b[39m: name 'fruits' is not defined"
     ]
    }
   ],
   "source": [
    "# make a for loop if length of the word is more than 5 print it\n",
    "for fruit in fruits:\n",
    "    if len(fruit)>6:\n",
    "        print(fruit,\"****\")\n",
    "    else:\n",
    "        print(fruit,\"...............................less\")"
   ]
  },
  {
   "cell_type": "code",
   "execution_count": null,
   "id": "6801361b",
   "metadata": {},
   "outputs": [],
   "source": [
    "# homework make a rock paper scissor\n"
   ]
  }
 ],
 "metadata": {
  "kernelspec": {
   "display_name": "Python 3",
   "language": "python",
   "name": "python3"
  },
  "language_info": {
   "codemirror_mode": {
    "name": "ipython",
    "version": 3
   },
   "file_extension": ".py",
   "mimetype": "text/x-python",
   "name": "python",
   "nbconvert_exporter": "python",
   "pygments_lexer": "ipython3",
   "version": "3.11.9"
  }
 },
 "nbformat": 4,
 "nbformat_minor": 5
}
