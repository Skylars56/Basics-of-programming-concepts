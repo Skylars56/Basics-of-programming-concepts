{
 "cells": [
  {
   "cell_type": "markdown",
   "id": "68e4884f",
   "metadata": {},
   "source": [
    "#### what are differetn types of data we have in python"
   ]
  },
  {
   "cell_type": "code",
   "execution_count": 2,
   "id": "eeaca28e",
   "metadata": {},
   "outputs": [
    {
     "name": "stdout",
     "output_type": "stream",
     "text": [
      "the student skylar is learning python programming language\n"
     ]
    }
   ],
   "source": [
    "name = \"skylar\"\n",
    "learning= \"python\"\n",
    "print(f\"the student {name} is learning {learning} programming language\")"
   ]
  },
  {
   "cell_type": "code",
   "execution_count": 5,
   "id": "f09f5132",
   "metadata": {},
   "outputs": [
    {
     "name": "stdout",
     "output_type": "stream",
     "text": [
      "ali\n"
     ]
    }
   ],
   "source": [
    "x = input(\"please enter your name: \")\n",
    "print(x)"
   ]
  },
  {
   "cell_type": "code",
   "execution_count": null,
   "id": "f9b290c3",
   "metadata": {},
   "outputs": [
    {
     "name": "stdout",
     "output_type": "stream",
     "text": [
      "hello Skylar\\\n",
      "your passwordis  123\n"
     ]
    },
    {
     "ename": "",
     "evalue": "",
     "output_type": "error",
     "traceback": [
      "\u001b[1;31mThe Kernel crashed while executing code in the current cell or a previous cell. \n",
      "\u001b[1;31mPlease review the code in the cell(s) to identify a possible cause of the failure. \n",
      "\u001b[1;31mClick <a href='https://aka.ms/vscodeJupyterKernelCrash'>here</a> for more info. \n",
      "\u001b[1;31mView Jupyter <a href='command:jupyter.viewOutput'>log</a> for further details."
     ]
    }
   ],
   "source": [
    "z = input(\"please enter username\")\n",
    "y = input(\"please enter your passsowrd\")\n",
    "print('hello',z)\n",
    "print('your password is ',y)"
   ]
  },
  {
   "cell_type": "code",
   "execution_count": null,
   "id": "c9e9542f",
   "metadata": {},
   "outputs": [],
   "source": []
  }
 ],
 "metadata": {
  "kernelspec": {
   "display_name": "Python 3",
   "language": "python",
   "name": "python3"
  },
  "language_info": {
   "codemirror_mode": {
    "name": "ipython",
    "version": 3
   },
   "file_extension": ".py",
   "mimetype": "text/x-python",
   "name": "python",
   "nbconvert_exporter": "python",
   "pygments_lexer": "ipython3",
   "version": "3.11.9"
  }
 },
 "nbformat": 4,
 "nbformat_minor": 5
}
