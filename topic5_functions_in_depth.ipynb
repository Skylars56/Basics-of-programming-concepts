{
 "cells": [
  {
   "cell_type": "markdown",
   "id": "3e2f2c54",
   "metadata": {},
   "source": [
    "### positional vs keyword arguments"
   ]
  },
  {
   "cell_type": "code",
   "execution_count": 7,
   "id": "96284c13",
   "metadata": {},
   "outputs": [],
   "source": [
    "def full_name(fname,lname=\"not given\"):\n",
    "    print(f'the first anme is {fname} and last name is {lname}')\n",
    "\n"
   ]
  },
  {
   "cell_type": "code",
   "execution_count": 8,
   "id": "54f3a72a",
   "metadata": {},
   "outputs": [
    {
     "name": "stdout",
     "output_type": "stream",
     "text": [
      "the first anme is john and last name is wick\n"
     ]
    }
   ],
   "source": [
    "full_name('john','wick')"
   ]
  },
  {
   "cell_type": "code",
   "execution_count": 9,
   "id": "31e54e6f",
   "metadata": {},
   "outputs": [
    {
     "name": "stdout",
     "output_type": "stream",
     "text": [
      "the first anme is rose and last name is kathericne\n"
     ]
    }
   ],
   "source": [
    "full_name(lname=\"kathericne\",fname=\"rose\") # keyword arguemnt"
   ]
  },
  {
   "cell_type": "code",
   "execution_count": 12,
   "id": "00d7fc25",
   "metadata": {},
   "outputs": [
    {
     "name": "stdout",
     "output_type": "stream",
     "text": [
      "the first anme is apple and last name is not given\n"
     ]
    }
   ],
   "source": [
    "full_name(\"apple\")"
   ]
  },
  {
   "cell_type": "code",
   "execution_count": null,
   "id": "fbf8c0a3",
   "metadata": {},
   "outputs": [],
   "source": [
    "def person(name,age,*other,**others): # * var will take all extra positional argument and ** will take all extra keyword argument\n",
    "    print(name)\n",
    "    print(age)\n",
    "    print(other)\n",
    "    print(others)"
   ]
  },
  {
   "cell_type": "code",
   "execution_count": 15,
   "id": "4b21cb60",
   "metadata": {},
   "outputs": [
    {
     "name": "stdout",
     "output_type": "stream",
     "text": [
      "john\n",
      "cola\n",
      "('teacher', 'programmer')\n",
      "{'sleep': '11pm', 'wakeup': '5am'}\n"
     ]
    }
   ],
   "source": [
    "person(\"john\",\"cola\",\"teacher\",\"programmer\",sleep=\"11pm\",wakeup=\"5am\")"
   ]
  },
  {
   "cell_type": "code",
   "execution_count": 16,
   "id": "e5de3e08",
   "metadata": {},
   "outputs": [],
   "source": [
    "# make a function when you give it number it give you factorial of that \n",
    "# for example if you write fact(4) it will return 4*3*2*1 as output"
   ]
  },
  {
   "cell_type": "code",
   "execution_count": 17,
   "id": "74d4f4bc",
   "metadata": {},
   "outputs": [],
   "source": [
    "def factorial(n):\n",
    "    f = 1\n",
    "    for i in range(1,n+1):\n",
    "        f = f*i\n",
    "    return f\n",
    "\n",
    "   "
   ]
  },
  {
   "cell_type": "code",
   "execution_count": 21,
   "id": "d079ff64",
   "metadata": {},
   "outputs": [
    {
     "data": {
      "text/plain": [
       "479001600"
      ]
     },
     "execution_count": 21,
     "metadata": {},
     "output_type": "execute_result"
    }
   ],
   "source": [
    "factorial(12)"
   ]
  },
  {
   "cell_type": "code",
   "execution_count": 22,
   "id": "b9019dc3",
   "metadata": {},
   "outputs": [],
   "source": [
    "# please make a functiom if you pass it a name which has a letter in it it says welcome!! for other name the funciton will print hello"
   ]
  },
  {
   "cell_type": "code",
   "execution_count": 25,
   "id": "f2135dbe",
   "metadata": {},
   "outputs": [
    {
     "data": {
      "text/plain": [
       "False"
      ]
     },
     "execution_count": 25,
     "metadata": {},
     "output_type": "execute_result"
    }
   ],
   "source": [
    "name = 'ow'\n",
    "'a' in name"
   ]
  },
  {
   "cell_type": "code",
   "execution_count": 26,
   "id": "fafc2916",
   "metadata": {},
   "outputs": [],
   "source": [
    "def greet(name):\n",
    "    if 'a' in name:\n",
    "        print(\"welocome\")\n",
    "    else:\n",
    "        print('hello')"
   ]
  },
  {
   "cell_type": "code",
   "execution_count": 27,
   "id": "bf5ebc2a",
   "metadata": {},
   "outputs": [
    {
     "name": "stdout",
     "output_type": "stream",
     "text": [
      "welocome\n"
     ]
    }
   ],
   "source": [
    "greet('andy')"
   ]
  },
  {
   "cell_type": "code",
   "execution_count": 28,
   "id": "646e755a",
   "metadata": {},
   "outputs": [
    {
     "name": "stdout",
     "output_type": "stream",
     "text": [
      "hello\n"
     ]
    }
   ],
   "source": [
    "greet(\"tommy\")"
   ]
  },
  {
   "cell_type": "code",
   "execution_count": null,
   "id": "23bf355c",
   "metadata": {},
   "outputs": [],
   "source": []
  }
 ],
 "metadata": {
  "kernelspec": {
   "display_name": "Python 3",
   "language": "python",
   "name": "python3"
  },
  "language_info": {
   "codemirror_mode": {
    "name": "ipython",
    "version": 3
   },
   "file_extension": ".py",
   "mimetype": "text/x-python",
   "name": "python",
   "nbconvert_exporter": "python",
   "pygments_lexer": "ipython3",
   "version": "3.11.9"
  }
 },
 "nbformat": 4,
 "nbformat_minor": 5
}
