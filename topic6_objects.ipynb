{
 "cells": [
  {
   "cell_type": "code",
   "execution_count": 1,
   "id": "ebb4f956",
   "metadata": {},
   "outputs": [],
   "source": [
    "# python is object oriented programming"
   ]
  },
  {
   "cell_type": "code",
   "execution_count": 2,
   "id": "266e39cd",
   "metadata": {},
   "outputs": [],
   "source": [
    "# everything in python is object "
   ]
  },
  {
   "cell_type": "code",
   "execution_count": 7,
   "id": "a243a5e9",
   "metadata": {},
   "outputs": [],
   "source": [
    "class Cat:\n",
    "    def __init__(self,name,age,status=\"sleeping\"):\n",
    "        self.name = name\n",
    "        self.age = age \n",
    "        self.status = status"
   ]
  },
  {
   "cell_type": "code",
   "execution_count": 8,
   "id": "5020ec32",
   "metadata": {},
   "outputs": [],
   "source": [
    "c1 = Cat(\"miao\",2,\"running\")\n",
    "c2 = Cat(\"heli\",1,\"eating\")"
   ]
  },
  {
   "cell_type": "code",
   "execution_count": 12,
   "id": "a8bc3042",
   "metadata": {},
   "outputs": [],
   "source": [
    "# class Human , huma will have anme and ID number\n",
    "class Human:\n",
    "    def __init__(self,name,IDnumber):\n",
    "        self.name = name\n",
    "        self.IDnumber = IDnumber\n",
    "    def tell_detail_of_people(self):\n",
    "        print(f\"the name is {self.name} and its national ID number is {self.IDnumber}\")"
   ]
  },
  {
   "cell_type": "code",
   "execution_count": 13,
   "id": "75edeac4",
   "metadata": {},
   "outputs": [],
   "source": [
    "h1 = Human(\"Tom\",27)\n",
    "h2 = Human(\"Umair\",1001)"
   ]
  },
  {
   "cell_type": "code",
   "execution_count": 14,
   "id": "6bdbdcc8",
   "metadata": {},
   "outputs": [
    {
     "name": "stdout",
     "output_type": "stream",
     "text": [
      "the name is Tom and its national ID number is 27\n"
     ]
    }
   ],
   "source": [
    "h1.tell_detail_of_people()"
   ]
  },
  {
   "cell_type": "code",
   "execution_count": 15,
   "id": "58214414",
   "metadata": {},
   "outputs": [
    {
     "name": "stdout",
     "output_type": "stream",
     "text": [
      "the name is Umair and its national ID number is 1001\n"
     ]
    }
   ],
   "source": [
    "h2.tell_detail_of_people()"
   ]
  },
  {
   "cell_type": "code",
   "execution_count": null,
   "id": "8c74e019",
   "metadata": {},
   "outputs": [],
   "source": []
  }
 ],
 "metadata": {
  "kernelspec": {
   "display_name": "Python 3",
   "language": "python",
   "name": "python3"
  },
  "language_info": {
   "codemirror_mode": {
    "name": "ipython",
    "version": 3
   },
   "file_extension": ".py",
   "mimetype": "text/x-python",
   "name": "python",
   "nbconvert_exporter": "python",
   "pygments_lexer": "ipython3",
   "version": "3.11.9"
  }
 },
 "nbformat": 4,
 "nbformat_minor": 5
}
