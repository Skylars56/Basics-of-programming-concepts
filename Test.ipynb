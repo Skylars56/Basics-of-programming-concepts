{
 "cells": [
  {
   "cell_type": "code",
   "execution_count": 1,
   "id": "af721dcf",
   "metadata": {},
   "outputs": [],
   "source": [
    "import turtle\n",
    "import random\n",
    "\n",
    "color = \"red\"\n",
    "shape = \"circle\"\n",
    "\n",
    "h1 = turtle.Turtle()\n",
    "h1.shape(\"circle\")\n",
    "h1.color(\"red\")\n",
    "h1.shapesize(3,3)\n",
    "h1.forward(0.5)\n",
    "h1.penup()\n",
    "h1.goto(0,0)\n",
    "\n",
    "h2 = turtle.Turtle()\n",
    "h2.shape(\"circle\")\n",
    "h2.color(\"red\")\n",
    "h2.shapesize(3,3)\n",
    "h2.penup()\n",
    "h2.goto(0,1)\n",
    "\n",
    "h3 = turtle.Turtle()\n",
    "h3.shape(\"triangle\")\n",
    "h3.color(\"red\")\n",
    "h3.shapesize(5.5,10)\n",
    "h3.penup()\n",
    "h3.goto(25,-65)\n",
    "h3.right(90)\n",
    "\n",
    "for i in range(99):\n",
    "    h1.forward(random.randint(0,1))\n",
    "\n",
    "\n",
    "turtle.done()"
   ]
  },
  {
   "cell_type": "code",
   "execution_count": null,
   "id": "e4e855c0",
   "metadata": {},
   "outputs": [],
   "source": [
    "import turtle\n",
    "import random\n",
    "\n"
   ]
  }
 ],
 "metadata": {
  "kernelspec": {
   "display_name": "Python 3",
   "language": "python",
   "name": "python3"
  },
  "language_info": {
   "codemirror_mode": {
    "name": "ipython",
    "version": 3
   },
   "file_extension": ".py",
   "mimetype": "text/x-python",
   "name": "python",
   "nbconvert_exporter": "python",
   "pygments_lexer": "ipython3",
   "version": "3.11.9"
  }
 },
 "nbformat": 4,
 "nbformat_minor": 5
}
